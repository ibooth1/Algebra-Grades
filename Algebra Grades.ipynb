{
  "cells": [
    {
      "metadata": {
        "trusted": true
      },
      "cell_type": "code",
      "source": "import pandas as pd\nimport numpy as np\n\nloc = \"fallcampdata/PivotData+(1).xlsx\"\ndf = pd.read_excel(loc)",
      "execution_count": 8,
      "outputs": []
    },
    {
      "metadata": {},
      "cell_type": "markdown",
      "source": "#### a) Percentage of students with a passing grade\n#### b) Percentage of women with a passing grade\n#### c) Average hours of study for all students\n#### d) Average hours of study for students with a passing grade"
    },
    {
      "metadata": {
        "trusted": true
      },
      "cell_type": "code",
      "source": "df.head()",
      "execution_count": 9,
      "outputs": [
        {
          "output_type": "execute_result",
          "execution_count": 9,
          "data": {
            "text/html": "<div>\n<style>\n    .dataframe thead tr:only-child th {\n        text-align: right;\n    }\n\n    .dataframe thead th {\n        text-align: left;\n    }\n\n    .dataframe tbody tr th {\n        vertical-align: top;\n    }\n</style>\n<table border=\"1\" class=\"dataframe\">\n  <thead>\n    <tr style=\"text-align: right;\">\n      <th></th>\n      <th>Fname</th>\n      <th>Lname</th>\n      <th>Gender</th>\n      <th>Grade</th>\n      <th>Hours of Study</th>\n    </tr>\n  </thead>\n  <tbody>\n    <tr>\n      <th>0</th>\n      <td>Mary</td>\n      <td>Ettienne</td>\n      <td>F</td>\n      <td>B</td>\n      <td>16</td>\n    </tr>\n    <tr>\n      <th>1</th>\n      <td>Charles</td>\n      <td>Looner</td>\n      <td>M</td>\n      <td>F</td>\n      <td>8</td>\n    </tr>\n    <tr>\n      <th>2</th>\n      <td>Betty</td>\n      <td>Franklin</td>\n      <td>F</td>\n      <td>A</td>\n      <td>24</td>\n    </tr>\n    <tr>\n      <th>3</th>\n      <td>Roger</td>\n      <td>Withers</td>\n      <td>M</td>\n      <td>C</td>\n      <td>5</td>\n    </tr>\n    <tr>\n      <th>4</th>\n      <td>John</td>\n      <td>Mulgrew</td>\n      <td>M</td>\n      <td>A</td>\n      <td>5</td>\n    </tr>\n  </tbody>\n</table>\n</div>",
            "text/plain": "     Fname     Lname Gender Grade  Hours of Study\n0     Mary  Ettienne      F     B              16\n1  Charles    Looner      M     F               8\n2    Betty  Franklin      F     A              24\n3    Roger   Withers      M     C               5\n4     John   Mulgrew      M     A               5"
          },
          "metadata": {}
        }
      ]
    },
    {
      "metadata": {
        "trusted": true
      },
      "cell_type": "code",
      "source": "df['ispassing'] = np.where((df['Grade']!='F'),1,0)\ndf['woman'] = np.where((df['Gender']=='F'),1,0)",
      "execution_count": 22,
      "outputs": []
    },
    {
      "metadata": {
        "trusted": true
      },
      "cell_type": "code",
      "source": "df.head()",
      "execution_count": 15,
      "outputs": [
        {
          "output_type": "execute_result",
          "execution_count": 15,
          "data": {
            "text/html": "<div>\n<style>\n    .dataframe thead tr:only-child th {\n        text-align: right;\n    }\n\n    .dataframe thead th {\n        text-align: left;\n    }\n\n    .dataframe tbody tr th {\n        vertical-align: top;\n    }\n</style>\n<table border=\"1\" class=\"dataframe\">\n  <thead>\n    <tr style=\"text-align: right;\">\n      <th></th>\n      <th>Fname</th>\n      <th>Lname</th>\n      <th>Gender</th>\n      <th>Grade</th>\n      <th>Hours of Study</th>\n      <th>ispassing</th>\n    </tr>\n  </thead>\n  <tbody>\n    <tr>\n      <th>0</th>\n      <td>Mary</td>\n      <td>Ettienne</td>\n      <td>F</td>\n      <td>B</td>\n      <td>16</td>\n      <td>1</td>\n    </tr>\n    <tr>\n      <th>1</th>\n      <td>Charles</td>\n      <td>Looner</td>\n      <td>M</td>\n      <td>F</td>\n      <td>8</td>\n      <td>0</td>\n    </tr>\n    <tr>\n      <th>2</th>\n      <td>Betty</td>\n      <td>Franklin</td>\n      <td>F</td>\n      <td>A</td>\n      <td>24</td>\n      <td>1</td>\n    </tr>\n    <tr>\n      <th>3</th>\n      <td>Roger</td>\n      <td>Withers</td>\n      <td>M</td>\n      <td>C</td>\n      <td>5</td>\n      <td>1</td>\n    </tr>\n    <tr>\n      <th>4</th>\n      <td>John</td>\n      <td>Mulgrew</td>\n      <td>M</td>\n      <td>A</td>\n      <td>5</td>\n      <td>1</td>\n    </tr>\n  </tbody>\n</table>\n</div>",
            "text/plain": "     Fname     Lname Gender Grade  Hours of Study  ispassing\n0     Mary  Ettienne      F     B              16          1\n1  Charles    Looner      M     F               8          0\n2    Betty  Franklin      F     A              24          1\n3    Roger   Withers      M     C               5          1\n4     John   Mulgrew      M     A               5          1"
          },
          "metadata": {}
        }
      ]
    },
    {
      "metadata": {
        "trusted": true
      },
      "cell_type": "code",
      "source": "df.describe()",
      "execution_count": 16,
      "outputs": [
        {
          "output_type": "execute_result",
          "execution_count": 16,
          "data": {
            "text/html": "<div>\n<style>\n    .dataframe thead tr:only-child th {\n        text-align: right;\n    }\n\n    .dataframe thead th {\n        text-align: left;\n    }\n\n    .dataframe tbody tr th {\n        vertical-align: top;\n    }\n</style>\n<table border=\"1\" class=\"dataframe\">\n  <thead>\n    <tr style=\"text-align: right;\">\n      <th></th>\n      <th>Hours of Study</th>\n      <th>ispassing</th>\n    </tr>\n  </thead>\n  <tbody>\n    <tr>\n      <th>count</th>\n      <td>999.000000</td>\n      <td>999.000000</td>\n    </tr>\n    <tr>\n      <th>mean</th>\n      <td>15.115115</td>\n      <td>0.916917</td>\n    </tr>\n    <tr>\n      <th>std</th>\n      <td>8.991187</td>\n      <td>0.276146</td>\n    </tr>\n    <tr>\n      <th>min</th>\n      <td>0.000000</td>\n      <td>0.000000</td>\n    </tr>\n    <tr>\n      <th>25%</th>\n      <td>7.000000</td>\n      <td>1.000000</td>\n    </tr>\n    <tr>\n      <th>50%</th>\n      <td>15.000000</td>\n      <td>1.000000</td>\n    </tr>\n    <tr>\n      <th>75%</th>\n      <td>23.000000</td>\n      <td>1.000000</td>\n    </tr>\n    <tr>\n      <th>max</th>\n      <td>30.000000</td>\n      <td>1.000000</td>\n    </tr>\n  </tbody>\n</table>\n</div>",
            "text/plain": "       Hours of Study   ispassing\ncount      999.000000  999.000000\nmean        15.115115    0.916917\nstd          8.991187    0.276146\nmin          0.000000    0.000000\n25%          7.000000    1.000000\n50%         15.000000    1.000000\n75%         23.000000    1.000000\nmax         30.000000    1.000000"
          },
          "metadata": {}
        }
      ]
    },
    {
      "metadata": {
        "trusted": true
      },
      "cell_type": "code",
      "source": "pd.pivot_table(df, index='ispassing', values=\"Fname\", aggfunc = 'count')",
      "execution_count": 20,
      "outputs": [
        {
          "output_type": "execute_result",
          "execution_count": 20,
          "data": {
            "text/html": "<div>\n<style>\n    .dataframe thead tr:only-child th {\n        text-align: right;\n    }\n\n    .dataframe thead th {\n        text-align: left;\n    }\n\n    .dataframe tbody tr th {\n        vertical-align: top;\n    }\n</style>\n<table border=\"1\" class=\"dataframe\">\n  <thead>\n    <tr style=\"text-align: right;\">\n      <th></th>\n      <th>Fname</th>\n    </tr>\n    <tr>\n      <th>ispassing</th>\n      <th></th>\n    </tr>\n  </thead>\n  <tbody>\n    <tr>\n      <th>0</th>\n      <td>83</td>\n    </tr>\n    <tr>\n      <th>1</th>\n      <td>916</td>\n    </tr>\n  </tbody>\n</table>\n</div>",
            "text/plain": "           Fname\nispassing       \n0             83\n1            916"
          },
          "metadata": {}
        }
      ]
    },
    {
      "metadata": {
        "trusted": true
      },
      "cell_type": "code",
      "source": "83/(916+83)",
      "execution_count": 34,
      "outputs": [
        {
          "output_type": "execute_result",
          "execution_count": 34,
          "data": {
            "text/plain": "0.08308308308308308"
          },
          "metadata": {}
        }
      ]
    },
    {
      "metadata": {
        "trusted": true
      },
      "cell_type": "code",
      "source": "pd.pivot_table(df, index='woman', values='ispassing')",
      "execution_count": 37,
      "outputs": [
        {
          "output_type": "execute_result",
          "execution_count": 37,
          "data": {
            "text/html": "<div>\n<style>\n    .dataframe thead tr:only-child th {\n        text-align: right;\n    }\n\n    .dataframe thead th {\n        text-align: left;\n    }\n\n    .dataframe tbody tr th {\n        vertical-align: top;\n    }\n</style>\n<table border=\"1\" class=\"dataframe\">\n  <thead>\n    <tr style=\"text-align: right;\">\n      <th></th>\n      <th>ispassing</th>\n    </tr>\n    <tr>\n      <th>woman</th>\n      <th></th>\n    </tr>\n  </thead>\n  <tbody>\n    <tr>\n      <th>0</th>\n      <td>0.877339</td>\n    </tr>\n    <tr>\n      <th>1</th>\n      <td>0.953668</td>\n    </tr>\n  </tbody>\n</table>\n</div>",
            "text/plain": "       ispassing\nwoman           \n0       0.877339\n1       0.953668"
          },
          "metadata": {}
        }
      ]
    },
    {
      "metadata": {
        "trusted": true
      },
      "cell_type": "code",
      "source": "#pd.pivot_table(df, index=\"Fname\", values='Hours of Study')",
      "execution_count": 33,
      "outputs": []
    },
    {
      "metadata": {
        "trusted": true
      },
      "cell_type": "code",
      "source": "pd.pivot_table(df, index ='ispassing', values = 'Hours of Study')",
      "execution_count": 31,
      "outputs": [
        {
          "output_type": "execute_result",
          "execution_count": 31,
          "data": {
            "text/html": "<div>\n<style>\n    .dataframe thead tr:only-child th {\n        text-align: right;\n    }\n\n    .dataframe thead th {\n        text-align: left;\n    }\n\n    .dataframe tbody tr th {\n        vertical-align: top;\n    }\n</style>\n<table border=\"1\" class=\"dataframe\">\n  <thead>\n    <tr style=\"text-align: right;\">\n      <th></th>\n      <th>Hours of Study</th>\n    </tr>\n    <tr>\n      <th>ispassing</th>\n      <th></th>\n    </tr>\n  </thead>\n  <tbody>\n    <tr>\n      <th>0</th>\n      <td>6.722892</td>\n    </tr>\n    <tr>\n      <th>1</th>\n      <td>15.875546</td>\n    </tr>\n  </tbody>\n</table>\n</div>",
            "text/plain": "           Hours of Study\nispassing                \n0                6.722892\n1               15.875546"
          },
          "metadata": {}
        }
      ]
    },
    {
      "metadata": {
        "trusted": true
      },
      "cell_type": "code",
      "source": "",
      "execution_count": null,
      "outputs": []
    }
  ],
  "metadata": {
    "kernelspec": {
      "name": "python36",
      "display_name": "Python 3.6",
      "language": "python"
    },
    "language_info": {
      "mimetype": "text/x-python",
      "nbconvert_exporter": "python",
      "name": "python",
      "pygments_lexer": "ipython3",
      "version": "3.6.6",
      "file_extension": ".py",
      "codemirror_mode": {
        "version": 3,
        "name": "ipython"
      }
    }
  },
  "nbformat": 4,
  "nbformat_minor": 2
}